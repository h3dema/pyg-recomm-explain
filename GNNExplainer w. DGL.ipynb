{
 "cells": [
  {
   "cell_type": "code",
   "execution_count": 1,
   "id": "504e76be",
   "metadata": {},
   "outputs": [],
   "source": [
    "# ref https://docs.dgl.ai/generated/dgl.nn.pytorch.explain.HeteroGNNExplainer.html"
   ]
  },
  {
   "cell_type": "code",
   "execution_count": 2,
   "id": "c40e0964",
   "metadata": {},
   "outputs": [],
   "source": [
    "import dgl\n",
    "import dgl.function as fn\n",
    "import torch as th\n",
    "import torch.nn as nn\n",
    "import torch.nn.functional as F\n",
    "from dgl.nn import HeteroGNNExplainer\n",
    "from tqdm import tqdm"
   ]
  },
  {
   "cell_type": "code",
   "execution_count": 3,
   "id": "79b51099",
   "metadata": {},
   "outputs": [],
   "source": [
    "import matplotlib.pyplot as plt\n",
    "import networkx as nx"
   ]
  },
  {
   "cell_type": "markdown",
   "id": "0ec27103",
   "metadata": {},
   "source": [
    "## Data\n",
    "- create random heterogeneous graph"
   ]
  },
  {
   "cell_type": "code",
   "execution_count": 21,
   "id": "1bd92f9a",
   "metadata": {},
   "outputs": [],
   "source": [
    "input_dim = 5\n",
    "num_classes = 2\n",
    "\n",
    "# The keys are in the form of string triplets (src_type, edge_type, dst_type), \n",
    "# The values are graph data in the form of (U,V), where (U[i],V[i]) forms the edge with ID i\n",
    "\n",
    "g = dgl.heterograph({('user', 'plays', 'game'): ([0, 1, 1, 2], [0, 0, 1, 1])})\n",
    "g.nodes['user'].data['h'] = th.randn(g.num_nodes('user'), input_dim)\n",
    "g.nodes['game'].data['h'] = th.randn(g.num_nodes('game'), input_dim)\n",
    "\n",
    "# create also the reverse edge\n",
    "transform = dgl.transforms.AddReverse()\n",
    "g = transform(g)"
   ]
  },
  {
   "cell_type": "code",
   "execution_count": 22,
   "id": "a6fcd716",
   "metadata": {
    "scrolled": true
   },
   "outputs": [
    {
     "data": {
      "text/plain": [
       "Graph(num_nodes={'game': 2, 'user': 3},\n",
       "      num_edges={('game', 'rev_plays', 'user'): 4, ('user', 'plays', 'game'): 4},\n",
       "      metagraph=[('game', 'user', 'rev_plays'), ('user', 'game', 'plays')])"
      ]
     },
     "execution_count": 22,
     "metadata": {},
     "output_type": "execute_result"
    }
   ],
   "source": [
    "g"
   ]
  },
  {
   "cell_type": "code",
   "execution_count": 23,
   "id": "13c65942",
   "metadata": {},
   "outputs": [],
   "source": [
    "# cannot plot directly with networkx because dgl.to_networkx() only supports homogeneous\n",
    "\n",
    "# options = {\n",
    "#     'node_color': 'black',\n",
    "#     'node_size': 20,\n",
    "#     'width': 1,\n",
    "# }\n",
    "# G = dgl.to_networkx(g)\n",
    "# plt.figure(figsize=[15,7])\n",
    "# nx.draw(G, **options)"
   ]
  },
  {
   "cell_type": "markdown",
   "id": "a0ff8f6e",
   "metadata": {},
   "source": [
    "## Define and train the model for graph explanation"
   ]
  },
  {
   "cell_type": "code",
   "execution_count": 24,
   "id": "ed3b19af",
   "metadata": {},
   "outputs": [],
   "source": [
    "class Model(nn.Module):\n",
    "    \n",
    "    def __init__(self, in_dim, num_classes, canonical_etypes):\n",
    "        super().__init__()\n",
    "        self.etype_weights = nn.ModuleDict({\n",
    "            '_'.join(c_etype): nn.Linear(in_dim, num_classes)\n",
    "            for c_etype in canonical_etypes\n",
    "        })\n",
    "        \n",
    "    def forward(self, graph, feat, eweight=None):\n",
    "        with graph.local_scope():\n",
    "            c_etype_func_dict = {}\n",
    "            for c_etype in graph.canonical_etypes:\n",
    "                src_type, etype, dst_type = c_etype\n",
    "                wh = self.etype_weights['_'.join(c_etype)](feat[src_type])\n",
    "                graph.nodes[src_type].data[f'h_{c_etype}'] = wh\n",
    "                if eweight is None:\n",
    "                    c_etype_func_dict[c_etype] = (fn.copy_u(f'h_{c_etype}', 'm'),\n",
    "                        fn.mean('m', 'h'))\n",
    "                else:\n",
    "                    graph.edges[c_etype].data['w'] = eweight[c_etype]\n",
    "                    c_etype_func_dict[c_etype] = (\n",
    "                        fn.u_mul_e(f'h_{c_etype}', 'w', 'm'), fn.mean('m', 'h'))\n",
    "            graph.multi_update_all(c_etype_func_dict, 'sum')\n",
    "            hg = 0\n",
    "            for ntype in graph.ntypes:\n",
    "                if graph.num_nodes(ntype):\n",
    "                    hg = hg + dgl.mean_nodes(graph, 'h', ntype=ntype)\n",
    "            return hg"
   ]
  },
  {
   "cell_type": "code",
   "execution_count": 25,
   "id": "cf2ccfd6",
   "metadata": {},
   "outputs": [],
   "source": [
    "feat = g.ndata['h']"
   ]
  },
  {
   "cell_type": "code",
   "execution_count": 26,
   "id": "235e1f0e",
   "metadata": {},
   "outputs": [
    {
     "data": {
      "text/plain": [
       "{'game': tensor([[-0.2012,  1.8359, -0.5838, -0.2247, -0.2292],\n",
       "         [ 0.5800, -0.4405,  1.1574,  0.2054, -0.7466]]),\n",
       " 'user': tensor([[-0.2755, -1.3307,  1.2350, -1.1448,  0.4985],\n",
       "         [-0.1814,  0.4376, -0.9165, -0.1042,  0.6654],\n",
       "         [ 0.5546, -0.0310,  1.4335,  0.6867, -1.8691]])}"
      ]
     },
     "execution_count": 26,
     "metadata": {},
     "output_type": "execute_result"
    }
   ],
   "source": [
    "\"\"\"\n",
    "dictionary that associates input node features (values) \n",
    "with the respective node types (keys) present in the graph. \n",
    "\n",
    "The input features are of shape (Nt,Dt)\n",
    "- Nt is the number of nodes for node type t\n",
    "- Dt is the feature size for node type t\n",
    "\"\"\"\n",
    "feat"
   ]
  },
  {
   "cell_type": "code",
   "execution_count": 28,
   "id": "2cea82e5",
   "metadata": {},
   "outputs": [
    {
     "name": "stderr",
     "output_type": "stream",
     "text": [
      "100%|██████████████████████████████████████████████████████████████████████████████████████████| 10/10 [00:00<00:00, 142.29it/s]\n"
     ]
    }
   ],
   "source": [
    "model = Model(input_dim, num_classes, g.canonical_etypes)\n",
    "optimizer = th.optim.Adam(model.parameters())\n",
    "for epoch in tqdm(range(10)):\n",
    "    logits = model(g, feat)\n",
    "    loss = F.cross_entropy(logits, th.tensor([1]))\n",
    "    optimizer.zero_grad()\n",
    "    loss.backward()\n",
    "    optimizer.step()"
   ]
  },
  {
   "cell_type": "markdown",
   "id": "e3619fe9",
   "metadata": {},
   "source": [
    "## Explain for the graph"
   ]
  },
  {
   "cell_type": "code",
   "execution_count": 30,
   "id": "d56787b6",
   "metadata": {},
   "outputs": [],
   "source": [
    "# num_hops: number of hops for GNN info aggregation\n",
    "# num_epochs: default 1\n",
    "# lr: default 0.01\n",
    "explainer = HeteroGNNExplainer(model, num_hops=1, num_epochs=2, log=True)"
   ]
  },
  {
   "cell_type": "code",
   "execution_count": 31,
   "id": "cdbbe073",
   "metadata": {
    "scrolled": true
   },
   "outputs": [
    {
     "name": "stderr",
     "output_type": "stream",
     "text": [
      "Explain graph: 100%|██████████████████████████████████████████████████████████████████████████████| 2/2 [00:00<00:00, 62.60it/s]\n"
     ]
    }
   ],
   "source": [
    "feat_mask, edge_mask = explainer.explain_graph(g, feat)"
   ]
  },
  {
   "cell_type": "code",
   "execution_count": 32,
   "id": "10f51303",
   "metadata": {},
   "outputs": [
    {
     "data": {
      "text/plain": [
       "{'game': tensor([0.4935, 0.4548, 0.4878, 0.5498, 0.4797]),\n",
       " 'user': tensor([0.5090, 0.5293, 0.4333, 0.4891, 0.4740])}"
      ]
     },
     "execution_count": 32,
     "metadata": {},
     "output_type": "execute_result"
    }
   ],
   "source": [
    "\"\"\" \n",
    "dictionary that associates the learned node feature importance masks (values) \n",
    "with the respective node types (keys). The masks are of shape (Dt), \n",
    "where Dt is the node feature size for node type t. \n",
    "\n",
    "The values are within range (0,1)\n",
    ". The higher, the more important.\n",
    "\"\"\"\n",
    "feat_mask"
   ]
  },
  {
   "cell_type": "code",
   "execution_count": 33,
   "id": "7c66b0e5",
   "metadata": {},
   "outputs": [
    {
     "data": {
      "text/plain": [
       "{('game', 'rev_plays', 'user'): tensor([0.6172, 0.6838, 0.6021, 0.6938]),\n",
       " ('user', 'plays', 'game'): tensor([0.5584, 0.1907, 0.6272, 0.4027])}"
      ]
     },
     "execution_count": 33,
     "metadata": {},
     "output_type": "execute_result"
    }
   ],
   "source": [
    "\"\"\" \n",
    "The dictionary that associates the learned edge importance masks (values) \n",
    "with the respective canonical edge types (keys). The masks are of shape (Et), \n",
    "where Et is the number of edges for canonical edge type t in the graph. \n",
    "The values are within range (0,1)\n",
    "\n",
    ". The higher, the more important.\n",
    "\"\"\"\n",
    "edge_mask"
   ]
  },
  {
   "cell_type": "markdown",
   "id": "b106f786",
   "metadata": {},
   "source": [
    "## Explain for the nodes"
   ]
  },
  {
   "cell_type": "code",
   "execution_count": 36,
   "id": "c3af4ad2",
   "metadata": {},
   "outputs": [],
   "source": [
    "class ModelNode(nn.Module):\n",
    "    \n",
    "    \"\"\" this model learns about the users \"\"\"\n",
    "    \n",
    "    def __init__(self, in_dim, num_classes, canonical_etypes):\n",
    "        super().__init__()\n",
    "        self.etype_weights = nn.ModuleDict({\n",
    "            '_'.join(c_etype): nn.Linear(in_dim, num_classes)\n",
    "            for c_etype in canonical_etypes\n",
    "        })\n",
    "    def forward(self, graph, feat, eweight=None):\n",
    "        with graph.local_scope():\n",
    "            c_etype_func_dict = {}\n",
    "            for c_etype in graph.canonical_etypes:\n",
    "                src_type, etype, dst_type = c_etype\n",
    "                wh = self.etype_weights['_'.join(c_etype)](feat[src_type])\n",
    "                graph.nodes[src_type].data[f'h_{c_etype}'] = wh\n",
    "                if eweight is None:\n",
    "                    c_etype_func_dict[c_etype] = (fn.copy_u(f'h_{c_etype}', 'm'),\n",
    "                        fn.mean('m', 'h'))\n",
    "                else:\n",
    "                    graph.edges[c_etype].data['w'] = eweight[c_etype]\n",
    "                    c_etype_func_dict[c_etype] = (\n",
    "                        fn.u_mul_e(f'h_{c_etype}', 'w', 'm'), fn.mean('m', 'h'))\n",
    "            graph.multi_update_all(c_etype_func_dict, 'sum')\n",
    "            return graph.ndata['h']"
   ]
  },
  {
   "cell_type": "code",
   "execution_count": 37,
   "id": "4964d4a6",
   "metadata": {},
   "outputs": [],
   "source": [
    "# define and train the model\n",
    "model_node = ModelNode(input_dim, num_classes, g.canonical_etypes)\n",
    "optimizer = th.optim.Adam(model.parameters())\n",
    "for epoch in range(10):\n",
    "    logits = model_node(g, feat)['user']\n",
    "    loss = F.cross_entropy(logits, th.tensor([1, 1, 1]))\n",
    "    optimizer.zero_grad()\n",
    "    loss.backward()\n",
    "    optimizer.step()"
   ]
  },
  {
   "cell_type": "code",
   "execution_count": 38,
   "id": "caf423a8",
   "metadata": {},
   "outputs": [],
   "source": [
    "## Explain node"
   ]
  },
  {
   "cell_type": "code",
   "execution_count": 39,
   "id": "d48a24df",
   "metadata": {},
   "outputs": [],
   "source": [
    "explainer_node_users = HeteroGNNExplainer(model_node, num_hops=1, num_epochs=2, log=True)"
   ]
  },
  {
   "cell_type": "code",
   "execution_count": 40,
   "id": "8bda5998",
   "metadata": {},
   "outputs": [
    {
     "name": "stderr",
     "output_type": "stream",
     "text": [
      "Explain node 0 with type user: 100%|██████████████████████████████████████████████████████████████| 2/2 [00:00<00:00, 90.66it/s]\n"
     ]
    }
   ],
   "source": [
    "node_type = \"user\"\n",
    "node_id = 0\n",
    "new_center, sg, feat_mask_node, edge_mask_node = explainer_node_users.explain_node(\n",
    "    node_type, \n",
    "    node_id, \n",
    "    g, \n",
    "    feat\n",
    ")"
   ]
  },
  {
   "cell_type": "code",
   "execution_count": 41,
   "id": "01b8cf79",
   "metadata": {},
   "outputs": [
    {
     "data": {
      "text/plain": [
       "Graph(num_nodes={'game': 1, 'user': 1},\n",
       "      num_edges={('game', 'rev_plays', 'user'): 1, ('user', 'plays', 'game'): 1},\n",
       "      metagraph=[('game', 'user', 'rev_plays'), ('user', 'game', 'plays')])"
      ]
     },
     "execution_count": 41,
     "metadata": {},
     "output_type": "execute_result"
    }
   ],
   "source": [
    "sg"
   ]
  },
  {
   "cell_type": "code",
   "execution_count": 42,
   "id": "199257fd",
   "metadata": {},
   "outputs": [
    {
     "data": {
      "text/plain": [
       "{'game': tensor([0.4595, 0.4973, 0.4566, 0.5186, 0.5063]),\n",
       " 'user': tensor([0.4918, 0.5082, 0.4697, 0.4907, 0.4837])}"
      ]
     },
     "execution_count": 42,
     "metadata": {},
     "output_type": "execute_result"
    }
   ],
   "source": [
    "feat_mask_node"
   ]
  },
  {
   "cell_type": "code",
   "execution_count": 43,
   "id": "65de2e7b",
   "metadata": {},
   "outputs": [
    {
     "data": {
      "text/plain": [
       "{('game', 'rev_plays', 'user'): tensor([0.6172, 0.6838, 0.6021, 0.6938]),\n",
       " ('user', 'plays', 'game'): tensor([0.5584, 0.1907, 0.6272, 0.4027])}"
      ]
     },
     "execution_count": 43,
     "metadata": {},
     "output_type": "execute_result"
    }
   ],
   "source": [
    "edge_mask"
   ]
  },
  {
   "cell_type": "code",
   "execution_count": null,
   "id": "8f549210",
   "metadata": {},
   "outputs": [],
   "source": []
  }
 ],
 "metadata": {
  "kernelspec": {
   "display_name": "Python 3 (ipykernel)",
   "language": "python",
   "name": "python3"
  },
  "language_info": {
   "codemirror_mode": {
    "name": "ipython",
    "version": 3
   },
   "file_extension": ".py",
   "mimetype": "text/x-python",
   "name": "python",
   "nbconvert_exporter": "python",
   "pygments_lexer": "ipython3",
   "version": "3.10.0"
  }
 },
 "nbformat": 4,
 "nbformat_minor": 5
}
